{
 "cells": [
  {
   "cell_type": "code",
   "execution_count": 25,
   "metadata": {},
   "outputs": [],
   "source": [
    "import pandas as pd\n",
    "import csv\n",
    "import matplotlib.pyplot as plt\n",
    "import seaborn as sns\n",
    "\n",
    "import os"
   ]
  },
  {
   "cell_type": "code",
   "execution_count": 150,
   "metadata": {},
   "outputs": [
    {
     "data": {
      "text/html": [
       "<div>\n",
       "<style scoped>\n",
       "    .dataframe tbody tr th:only-of-type {\n",
       "        vertical-align: middle;\n",
       "    }\n",
       "\n",
       "    .dataframe tbody tr th {\n",
       "        vertical-align: top;\n",
       "    }\n",
       "\n",
       "    .dataframe thead th {\n",
       "        text-align: right;\n",
       "    }\n",
       "</style>\n",
       "<table border=\"1\" class=\"dataframe\">\n",
       "  <thead>\n",
       "    <tr style=\"text-align: right;\">\n",
       "      <th></th>\n",
       "      <th>sampleID</th>\n",
       "      <th>Process</th>\n",
       "      <th>Read count (million)</th>\n",
       "    </tr>\n",
       "  </thead>\n",
       "  <tbody>\n",
       "    <tr>\n",
       "      <th>0</th>\n",
       "      <td>5002</td>\n",
       "      <td>unzip</td>\n",
       "      <td>27.517378</td>\n",
       "    </tr>\n",
       "    <tr>\n",
       "      <th>1</th>\n",
       "      <td>5005</td>\n",
       "      <td>unzip</td>\n",
       "      <td>32.020513</td>\n",
       "    </tr>\n",
       "    <tr>\n",
       "      <th>2</th>\n",
       "      <td>5006</td>\n",
       "      <td>unzip</td>\n",
       "      <td>29.226983</td>\n",
       "    </tr>\n",
       "    <tr>\n",
       "      <th>3</th>\n",
       "      <td>5007</td>\n",
       "      <td>unzip</td>\n",
       "      <td>31.391864</td>\n",
       "    </tr>\n",
       "    <tr>\n",
       "      <th>4</th>\n",
       "      <td>5011</td>\n",
       "      <td>unzip</td>\n",
       "      <td>29.150206</td>\n",
       "    </tr>\n",
       "    <tr>\n",
       "      <th>...</th>\n",
       "      <td>...</td>\n",
       "      <td>...</td>\n",
       "      <td>...</td>\n",
       "    </tr>\n",
       "    <tr>\n",
       "      <th>475</th>\n",
       "      <td>8040</td>\n",
       "      <td>flash</td>\n",
       "      <td>7.203646</td>\n",
       "    </tr>\n",
       "    <tr>\n",
       "      <th>476</th>\n",
       "      <td>8041</td>\n",
       "      <td>flash</td>\n",
       "      <td>6.979801</td>\n",
       "    </tr>\n",
       "    <tr>\n",
       "      <th>477</th>\n",
       "      <td>8042</td>\n",
       "      <td>flash</td>\n",
       "      <td>15.226146</td>\n",
       "    </tr>\n",
       "    <tr>\n",
       "      <th>478</th>\n",
       "      <td>8048</td>\n",
       "      <td>flash</td>\n",
       "      <td>10.810835</td>\n",
       "    </tr>\n",
       "    <tr>\n",
       "      <th>479</th>\n",
       "      <td>8052</td>\n",
       "      <td>flash</td>\n",
       "      <td>15.058109</td>\n",
       "    </tr>\n",
       "  </tbody>\n",
       "</table>\n",
       "<p>480 rows × 3 columns</p>\n",
       "</div>"
      ],
      "text/plain": [
       "     sampleID Process  Read count (million)\n",
       "0        5002   unzip             27.517378\n",
       "1        5005   unzip             32.020513\n",
       "2        5006   unzip             29.226983\n",
       "3        5007   unzip             31.391864\n",
       "4        5011   unzip             29.150206\n",
       "..        ...     ...                   ...\n",
       "475      8040   flash              7.203646\n",
       "476      8041   flash              6.979801\n",
       "477      8042   flash             15.226146\n",
       "478      8048   flash             10.810835\n",
       "479      8052   flash             15.058109\n",
       "\n",
       "[480 rows x 3 columns]"
      ]
     },
     "execution_count": 150,
     "metadata": {},
     "output_type": "execute_result"
    }
   ],
   "source": [
    "# Change this path based on run directory\n",
    "path = \"/Volumes/GoogleDrive/My Drive/Lemay_lab/pipeline_stats/NovaSeq043\"\n",
    "\n",
    "df = pd.read_csv(os.path.join(path, \"043_pipeline_libsize_million.tsv\"), sep='\\t', header=0)\n",
    "dfm = pd.melt(df, col_level=0, \n",
    "              id_vars=['sampleID'], \n",
    "              value_vars=['unzip','bmtagger','trimmomatic','fastuniq','flash'], \n",
    "              var_name='Process', \n",
    "             value_name='Read count (million)')\n",
    "dfm"
   ]
  },
  {
   "cell_type": "code",
   "execution_count": null,
   "metadata": {},
   "outputs": [],
   "source": []
  },
  {
   "cell_type": "code",
   "execution_count": 49,
   "metadata": {},
   "outputs": [],
   "source": [
    "def update_label(old_label, exponent_text):\n",
    "    if exponent_text == \"\":\n",
    "        return old_label\n",
    "    \n",
    "    try:\n",
    "        units = old_label[old_label.index(\"[\") + 1:old_label.rindex(\"]\")]\n",
    "    except ValueError:\n",
    "        units = \"\"\n",
    "    label = old_label.replace(\"[{}]\".format(units), \"\")\n",
    "    \n",
    "    exponent_text = exponent_text.replace(\"\\\\times\", \"\")\n",
    "    \n",
    "    return \"{} [{} {}]\".format(label, exponent_text, units)\n",
    "    \n",
    "def format_label_string_with_exponent(ax, axis='both'):  \n",
    "    \"\"\" Format the label string with the exponent from the ScalarFormatter \"\"\"\n",
    "    ax.ticklabel_format(axis=axis, style='sci')\n",
    "\n",
    "    axes_instances = []\n",
    "    if axis in ['x', 'both']:\n",
    "        axes_instances.append(ax.xaxis)\n",
    "    if axis in ['y', 'both']:\n",
    "        axes_instances.append(ax.yaxis)\n",
    "    \n",
    "    for ax in axes_instances:\n",
    "        ax.major.formatter._useMathText = True\n",
    "        plt.draw() # Update the text\n",
    "        exponent_text = ax.get_offset_text().get_text()\n",
    "        label = ax.get_label().get_text()\n",
    "        ax.offsetText.set_visible(False)\n",
    "        ax.set_label_text(update_label(label, exponent_text))"
   ]
  },
  {
   "cell_type": "code",
   "execution_count": 66,
   "metadata": {},
   "outputs": [
    {
     "data": {
      "image/png": "[encoded data removed]",
      "text/plain": [
       "<Figure size 360x360 with 1 Axes>"
      ]
     },
     "metadata": {
      "needs_background": "light"
     },
     "output_type": "display_data"
    }
   ],
   "source": [
    "fig = sns.catplot(x=\"Process\", y=\"Read count (million)\", kind=\"box\", data=dfm).set_titles(\"dd\")\n",
    "#plt.ticklabel_format(style='plain', axis='y')\n",
    "\n",
    "# save the fig  \n",
    "fig.savefig(os.path.join(path, \"043_pipeline_libsize.pdf\"),\n",
    "            format='pdf') "
   ]
  },
  {
   "cell_type": "code",
   "execution_count": 142,
   "metadata": {},
   "outputs": [],
   "source": [
    "# histogram\n",
    "import glob\n",
    "path = \"/Volumes/GoogleDrive/My Drive/Lemay_lab/pipeline_stats/NovaSeq072\"\n",
    "\n",
    "tabm = pd.DataFrame()\n",
    "\n",
    "for file in glob.glob(os.path.join(path, \"flash_hist/*.hist\")):\n",
    "    tab = pd.read_csv(file, sep='\\t', names=['Merged read length','Read count'], header=None, engine='python')\n",
    "    tab['sampleID'] = file[-9:-5] \n",
    "    try:\n",
    "        tabm = pd.concat([tab, tabm],sort=False)\n",
    "    except KeyError:\n",
    "        tabm = tab.copy()\n",
    "    tabm.to_csv(os.path.join(path,\"flash_hist/merged.hist\"), sep='\\t')\n",
    "    \n"
   ]
  },
  {
   "cell_type": "code",
   "execution_count": 145,
   "metadata": {},
   "outputs": [
    {
     "data": {
      "image/png": "[encoded data removed]",
      "text/plain": [
       "<Figure size 459.25x360 with 1 Axes>"
      ]
     },
     "metadata": {
      "needs_background": "light"
     },
     "output_type": "display_data"
    }
   ],
   "source": [
    "tabm043 = pd.read_csv(os.path.join(\"/Volumes/GoogleDrive/My Drive/Lemay_lab/pipeline_stats/NovaSeq043\", \"flash_hist/merged.hist\"), sep='\\t', header=0, index_col=0)\n",
    "tabm072 = pd.read_csv(os.path.join(\"/Volumes/GoogleDrive/My Drive/Lemay_lab/pipeline_stats/NovaSeq072\", \"flash_hist/merged.hist\"), sep='\\t', header=0, index_col=0)\n",
    "\n",
    "tabm043['Run'] = 'NovaSeq043'\n",
    "tabm072['Run'] = 'NovaSeq072'\n",
    "\n",
    "tabm2 = pd.concat([tabm043,tabm072],sort=False)\n",
    "tabm2\n",
    "\n",
    "sns.relplot(x=\"Merged read length\", y=\"Read count\", hue=\"Run\", kind=\"line\", data=tabm2).savefig(os.path.join(\"/Volumes/GoogleDrive/My Drive/Lemay_lab/pipeline_stats\", \"Run043_Run072_len_dist.pdf\"),\n",
    "            format='pdf') \n",
    "\n"
   ]
  }
 ],
 "metadata": {
  "kernelspec": {
   "display_name": "Python 3",
   "language": "python",
   "name": "python3"
  },
  "language_info": {
   "codemirror_mode": {
    "name": "ipython",
    "version": 3
   },
   "file_extension": ".py",
   "mimetype": "text/x-python",
   "name": "python",
   "nbconvert_exporter": "python",
   "pygments_lexer": "ipython3",
   "version": "3.7.5"
  }
 },
 "nbformat": 4,
 "nbformat_minor": 2
}
