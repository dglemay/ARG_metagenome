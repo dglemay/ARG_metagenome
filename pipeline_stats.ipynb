{
 "cells": [
  {
   "cell_type": "code",
   "execution_count": 13,
   "metadata": {},
   "outputs": [],
   "source": [
    "import pandas as pd\n",
    "import csv\n",
    "import matplotlib.pyplot as plt\n",
    "import seaborn as sns\n",
    "from scipy import stats\n",
    "\n",
    "import os"
   ]
  },
  {
   "cell_type": "code",
   "execution_count": 2,
   "metadata": {},
   "outputs": [
    {
     "data": {
      "text/html": [
       "<div>\n",
       "<style scoped>\n",
       "    .dataframe tbody tr th:only-of-type {\n",
       "        vertical-align: middle;\n",
       "    }\n",
       "\n",
       "    .dataframe tbody tr th {\n",
       "        vertical-align: top;\n",
       "    }\n",
       "\n",
       "    .dataframe thead th {\n",
       "        text-align: right;\n",
       "    }\n",
       "</style>\n",
       "<table border=\"1\" class=\"dataframe\">\n",
       "  <thead>\n",
       "    <tr style=\"text-align: right;\">\n",
       "      <th></th>\n",
       "      <th>sampleID</th>\n",
       "      <th>Process</th>\n",
       "      <th>Read count</th>\n",
       "    </tr>\n",
       "  </thead>\n",
       "  <tbody>\n",
       "    <tr>\n",
       "      <th>0</th>\n",
       "      <td>5002</td>\n",
       "      <td>unzip</td>\n",
       "      <td>27517378</td>\n",
       "    </tr>\n",
       "    <tr>\n",
       "      <th>1</th>\n",
       "      <td>5005</td>\n",
       "      <td>unzip</td>\n",
       "      <td>32020513</td>\n",
       "    </tr>\n",
       "    <tr>\n",
       "      <th>2</th>\n",
       "      <td>5006</td>\n",
       "      <td>unzip</td>\n",
       "      <td>29226983</td>\n",
       "    </tr>\n",
       "    <tr>\n",
       "      <th>3</th>\n",
       "      <td>5007</td>\n",
       "      <td>unzip</td>\n",
       "      <td>31391864</td>\n",
       "    </tr>\n",
       "    <tr>\n",
       "      <th>4</th>\n",
       "      <td>5011</td>\n",
       "      <td>unzip</td>\n",
       "      <td>29150206</td>\n",
       "    </tr>\n",
       "    <tr>\n",
       "      <th>...</th>\n",
       "      <td>...</td>\n",
       "      <td>...</td>\n",
       "      <td>...</td>\n",
       "    </tr>\n",
       "    <tr>\n",
       "      <th>475</th>\n",
       "      <td>8040</td>\n",
       "      <td>flash</td>\n",
       "      <td>7203646</td>\n",
       "    </tr>\n",
       "    <tr>\n",
       "      <th>476</th>\n",
       "      <td>8041</td>\n",
       "      <td>flash</td>\n",
       "      <td>6979801</td>\n",
       "    </tr>\n",
       "    <tr>\n",
       "      <th>477</th>\n",
       "      <td>8042</td>\n",
       "      <td>flash</td>\n",
       "      <td>15226146</td>\n",
       "    </tr>\n",
       "    <tr>\n",
       "      <th>478</th>\n",
       "      <td>8048</td>\n",
       "      <td>flash</td>\n",
       "      <td>10810835</td>\n",
       "    </tr>\n",
       "    <tr>\n",
       "      <th>479</th>\n",
       "      <td>8052</td>\n",
       "      <td>flash</td>\n",
       "      <td>15058109</td>\n",
       "    </tr>\n",
       "  </tbody>\n",
       "</table>\n",
       "<p>480 rows × 3 columns</p>\n",
       "</div>"
      ],
      "text/plain": [
       "     sampleID Process  Read count\n",
       "0        5002   unzip    27517378\n",
       "1        5005   unzip    32020513\n",
       "2        5006   unzip    29226983\n",
       "3        5007   unzip    31391864\n",
       "4        5011   unzip    29150206\n",
       "..        ...     ...         ...\n",
       "475      8040   flash     7203646\n",
       "476      8041   flash     6979801\n",
       "477      8042   flash    15226146\n",
       "478      8048   flash    10810835\n",
       "479      8052   flash    15058109\n",
       "\n",
       "[480 rows x 3 columns]"
      ]
     },
     "execution_count": 2,
     "metadata": {},
     "output_type": "execute_result"
    }
   ],
   "source": [
    "# Change this path based on run directory\n",
    "# Or read in the million formattd files to have reads per million on the table\n",
    "path = \"/Volumes/GoogleDrive/My Drive/Lemay_lab/pipeline_stats/NovaSeq043\"\n",
    "\n",
    "df = pd.read_csv(os.path.join(path, \"043_pipeline_libsize.tsv\"), sep='\\t', header=0)\n",
    "dfm = pd.melt(df, col_level=0, \n",
    "              id_vars=['sampleID'], \n",
    "              value_vars=['unzip','bmtagger','trimmomatic','fastuniq','flash'], \n",
    "              var_name='Process', \n",
    "             value_name='Read count')\n",
    "dfm"
   ]
  },
  {
   "cell_type": "code",
   "execution_count": 16,
   "metadata": {},
   "outputs": [
    {
     "data": {
      "text/plain": [
       "Text(0.5, 1, 'NovsSeq43')"
      ]
     },
     "execution_count": 16,
     "metadata": {},
     "output_type": "execute_result"
    },
    {
     "data": {
      "image/png": "[encoded data removed]",
      "text/plain": [
       "<Figure size 360x360 with 1 Axes>"
      ]
     },
     "metadata": {
      "needs_background": "light"
     },
     "output_type": "display_data"
    }
   ],
   "source": [
    "# based on: http://greg-ashton.physics.monash.edu/setting-nice-axes-labels-in-matplotlib.html\n",
    "def update_label(old_label, exponent_text):\n",
    "    if exponent_text == \"\":\n",
    "        return old_label\n",
    "    \n",
    "    try:\n",
    "        units = old_label[old_label.index(\"[\") + 1:old_label.rindex(\"]\")]\n",
    "    except ValueError:\n",
    "        units = \"\"\n",
    "    label = old_label.replace(\"[{}]\".format(units), \"\")\n",
    "    \n",
    "    exponent_text = exponent_text.replace(\"\\\\Read count\", \"\") # !!CHANGE ME FOR YOUR USE\n",
    "    \n",
    "    return \"{} [{} {}]\".format(label, exponent_text, units)\n",
    "    \n",
    "def format_label_string_with_exponent(ax, axis='both'):  \n",
    "    \"\"\" Format the label string with the exponent from the ScalarFormatter \"\"\"\n",
    "    plt.ticklabel_format(axis=axis, style='sci')\n",
    "\n",
    "    axes_instances = []\n",
    "    if axis in ['x', 'both']:\n",
    "        axes_instances.append(ax.xaxis)\n",
    "    if axis in ['y', 'both']:\n",
    "        axes_instances.append(ax.yaxis)\n",
    "    \n",
    "    for ax in axes_instances:\n",
    "        ax.major.formatter._useMathText = True\n",
    "        plt.draw() # Update the text\n",
    "        exponent_text = ax.get_offset_text().get_text()\n",
    "        label = ax.get_label().get_text()\n",
    "        ax.offsetText.set_visible(False)\n",
    "        ax.set_label_text(update_label(label, exponent_text))\n",
    "        \n",
    "# Make the figure and change the axis labels to scienctific notations\n",
    "fig = sns.catplot(x=\"Process\", y=\"Read count\", kind=\"box\", data=dfm).set_titles(\"dd\")\n",
    "format_label_string_with_exponent(fig.ax, axis='y')\n",
    "fig.ax.set_title(\"NovsSeq43\")"
   ]
  },
  {
   "cell_type": "code",
   "execution_count": null,
   "metadata": {},
   "outputs": [],
   "source": []
  },
  {
   "cell_type": "code",
   "execution_count": 194,
   "metadata": {},
   "outputs": [
    {
     "data": {
      "image/png": "[encoded data removed]",
      "text/plain": [
       "<Figure size 360x360 with 1 Axes>"
      ]
     },
     "metadata": {
      "needs_background": "light"
     },
     "output_type": "display_data"
    }
   ],
   "source": [
    "fig = sns.catplot(x=\"Process\", y=\"Read count (million)\", kind=\"box\", data=dfm).set_titles(\"dd\")\n",
    "\n",
    "\n",
    "\n",
    "\n",
    "#make the y axis label to show in plain numbers\n",
    "#plt.ticklabel_format(style='plain', axis='y')\n",
    "\n",
    "# save the fig  \n",
    "#fig.savefig(os.path.join(path, \"043_pipeline_libsize.pdf\"),\n",
    "  #          format='pdf') "
   ]
  },
  {
   "cell_type": "code",
   "execution_count": 192,
   "metadata": {},
   "outputs": [
    {
     "data": {
      "text/plain": [
       "<matplotlib.axis.YAxis at 0x1a3050c0d0>"
      ]
     },
     "execution_count": 192,
     "metadata": {},
     "output_type": "execute_result"
    }
   ],
   "source": [
    "fig.ax.yaxis\n"
   ]
  },
  {
   "cell_type": "code",
   "execution_count": 142,
   "metadata": {},
   "outputs": [],
   "source": [
    "# histogram\n",
    "import glob\n",
    "path = \"/Volumes/GoogleDrive/My Drive/Lemay_lab/pipeline_stats/NovaSeq072\"\n",
    "\n",
    "tabm = pd.DataFrame()\n",
    "\n",
    "for file in glob.glob(os.path.join(path, \"flash_hist/*.hist\")):\n",
    "    tab = pd.read_csv(file, sep='\\t', names=['Merged read length','Read count'], header=None, engine='python')\n",
    "    tab['sampleID'] = file[-9:-5] \n",
    "    try:\n",
    "        tabm = pd.concat([tab, tabm],sort=False)\n",
    "    except KeyError:\n",
    "        tabm = tab.copy()\n",
    "    tabm.to_csv(os.path.join(path,\"flash_hist/merged.hist\"), sep='\\t')\n",
    "    \n"
   ]
  },
  {
   "cell_type": "code",
   "execution_count": 145,
   "metadata": {},
   "outputs": [
    {
     "data": {
      "image/png": "[encoded data removed]",
      "text/plain": [
       "<Figure size 459.25x360 with 1 Axes>"
      ]
     },
     "metadata": {
      "needs_background": "light"
     },
     "output_type": "display_data"
    }
   ],
   "source": [
    "tabm043 = pd.read_csv(os.path.join(\"/Volumes/GoogleDrive/My Drive/Lemay_lab/pipeline_stats/NovaSeq043\", \"flash_hist/merged.hist\"), sep='\\t', header=0, index_col=0)\n",
    "tabm072 = pd.read_csv(os.path.join(\"/Volumes/GoogleDrive/My Drive/Lemay_lab/pipeline_stats/NovaSeq072\", \"flash_hist/merged.hist\"), sep='\\t', header=0, index_col=0)\n",
    "\n",
    "tabm043['Run'] = 'NovaSeq043'\n",
    "tabm072['Run'] = 'NovaSeq072'\n",
    "\n",
    "tabm2 = pd.concat([tabm043,tabm072],sort=False)\n",
    "tabm2\n",
    "\n",
    "sns.relplot(x=\"Merged read length\", y=\"Read count\", hue=\"Run\", kind=\"line\", data=tabm2).savefig(os.path.join(\"/Volumes/GoogleDrive/My Drive/Lemay_lab/pipeline_stats\", \"Run043_Run072_len_dist.pdf\"),\n",
    "            format='pdf') \n",
    "\n"
   ]
  },
  {
   "cell_type": "code",
   "execution_count": 11,
   "metadata": {},
   "outputs": [
    {
     "data": {
      "text/html": [
       "<div>\n",
       "<style scoped>\n",
       "    .dataframe tbody tr th:only-of-type {\n",
       "        vertical-align: middle;\n",
       "    }\n",
       "\n",
       "    .dataframe tbody tr th {\n",
       "        vertical-align: top;\n",
       "    }\n",
       "\n",
       "    .dataframe thead th {\n",
       "        text-align: right;\n",
       "    }\n",
       "</style>\n",
       "<table border=\"1\" class=\"dataframe\">\n",
       "  <thead>\n",
       "    <tr style=\"text-align: right;\">\n",
       "      <th></th>\n",
       "      <th>sampleID</th>\n",
       "      <th>unzip</th>\n",
       "      <th>bmtagger</th>\n",
       "      <th>trimmomatic</th>\n",
       "      <th>fastuniq</th>\n",
       "      <th>flash</th>\n",
       "      <th>dup_reads</th>\n",
       "    </tr>\n",
       "  </thead>\n",
       "  <tbody>\n",
       "    <tr>\n",
       "      <th>0</th>\n",
       "      <td>5002</td>\n",
       "      <td>27517378</td>\n",
       "      <td>27371851</td>\n",
       "      <td>26681150</td>\n",
       "      <td>24268365</td>\n",
       "      <td>13374731</td>\n",
       "      <td>2412785</td>\n",
       "    </tr>\n",
       "    <tr>\n",
       "      <th>1</th>\n",
       "      <td>5005</td>\n",
       "      <td>32020513</td>\n",
       "      <td>31753397</td>\n",
       "      <td>30859233</td>\n",
       "      <td>27855636</td>\n",
       "      <td>18327443</td>\n",
       "      <td>3003597</td>\n",
       "    </tr>\n",
       "    <tr>\n",
       "      <th>2</th>\n",
       "      <td>5006</td>\n",
       "      <td>29226983</td>\n",
       "      <td>29054464</td>\n",
       "      <td>28266052</td>\n",
       "      <td>25643969</td>\n",
       "      <td>17343154</td>\n",
       "      <td>2622083</td>\n",
       "    </tr>\n",
       "    <tr>\n",
       "      <th>3</th>\n",
       "      <td>5007</td>\n",
       "      <td>31391864</td>\n",
       "      <td>31196726</td>\n",
       "      <td>30305965</td>\n",
       "      <td>27488397</td>\n",
       "      <td>15164114</td>\n",
       "      <td>2817568</td>\n",
       "    </tr>\n",
       "    <tr>\n",
       "      <th>4</th>\n",
       "      <td>5011</td>\n",
       "      <td>29150206</td>\n",
       "      <td>28979861</td>\n",
       "      <td>28135817</td>\n",
       "      <td>25405830</td>\n",
       "      <td>15363707</td>\n",
       "      <td>2729987</td>\n",
       "    </tr>\n",
       "    <tr>\n",
       "      <th>...</th>\n",
       "      <td>...</td>\n",
       "      <td>...</td>\n",
       "      <td>...</td>\n",
       "      <td>...</td>\n",
       "      <td>...</td>\n",
       "      <td>...</td>\n",
       "      <td>...</td>\n",
       "    </tr>\n",
       "    <tr>\n",
       "      <th>91</th>\n",
       "      <td>8040</td>\n",
       "      <td>26648813</td>\n",
       "      <td>26427125</td>\n",
       "      <td>25646620</td>\n",
       "      <td>23537236</td>\n",
       "      <td>7203646</td>\n",
       "      <td>2109384</td>\n",
       "    </tr>\n",
       "    <tr>\n",
       "      <th>92</th>\n",
       "      <td>8041</td>\n",
       "      <td>21470673</td>\n",
       "      <td>21242539</td>\n",
       "      <td>20587789</td>\n",
       "      <td>18992587</td>\n",
       "      <td>6979801</td>\n",
       "      <td>1595202</td>\n",
       "    </tr>\n",
       "    <tr>\n",
       "      <th>93</th>\n",
       "      <td>8042</td>\n",
       "      <td>37828491</td>\n",
       "      <td>37395024</td>\n",
       "      <td>36366986</td>\n",
       "      <td>32616747</td>\n",
       "      <td>15226146</td>\n",
       "      <td>3750239</td>\n",
       "    </tr>\n",
       "    <tr>\n",
       "      <th>94</th>\n",
       "      <td>8048</td>\n",
       "      <td>32917343</td>\n",
       "      <td>32626903</td>\n",
       "      <td>31643926</td>\n",
       "      <td>28582029</td>\n",
       "      <td>10810835</td>\n",
       "      <td>3061897</td>\n",
       "    </tr>\n",
       "    <tr>\n",
       "      <th>95</th>\n",
       "      <td>8052</td>\n",
       "      <td>35844036</td>\n",
       "      <td>35548859</td>\n",
       "      <td>34628636</td>\n",
       "      <td>31224710</td>\n",
       "      <td>15058109</td>\n",
       "      <td>3403926</td>\n",
       "    </tr>\n",
       "  </tbody>\n",
       "</table>\n",
       "<p>96 rows × 7 columns</p>\n",
       "</div>"
      ],
      "text/plain": [
       "    sampleID     unzip  bmtagger  trimmomatic  fastuniq     flash  dup_reads\n",
       "0       5002  27517378  27371851     26681150  24268365  13374731    2412785\n",
       "1       5005  32020513  31753397     30859233  27855636  18327443    3003597\n",
       "2       5006  29226983  29054464     28266052  25643969  17343154    2622083\n",
       "3       5007  31391864  31196726     30305965  27488397  15164114    2817568\n",
       "4       5011  29150206  28979861     28135817  25405830  15363707    2729987\n",
       "..       ...       ...       ...          ...       ...       ...        ...\n",
       "91      8040  26648813  26427125     25646620  23537236   7203646    2109384\n",
       "92      8041  21470673  21242539     20587789  18992587   6979801    1595202\n",
       "93      8042  37828491  37395024     36366986  32616747  15226146    3750239\n",
       "94      8048  32917343  32626903     31643926  28582029  10810835    3061897\n",
       "95      8052  35844036  35548859     34628636  31224710  15058109    3403926\n",
       "\n",
       "[96 rows x 7 columns]"
      ]
     },
     "execution_count": 11,
     "metadata": {},
     "output_type": "execute_result"
    }
   ],
   "source": [
    "path = \"/Volumes/GoogleDrive/My Drive/Lemay_lab/pipeline_stats/\"\n",
    "\n",
    "df = pd.read_csv(os.path.join(path, \"043_pipeline_libsize.csv\"), sep=',', header=0)\n",
    "df"
   ]
  },
  {
   "cell_type": "code",
   "execution_count": 56,
   "metadata": {},
   "outputs": [
    {
     "data": {
      "image/png": "[encoded data removed]",
      "text/plain": [
       "<Figure size 360x360 with 1 Axes>"
      ]
     },
     "metadata": {
      "needs_background": "light"
     },
     "output_type": "display_data"
    }
   ],
   "source": [
    "# get coeffs of linear fit\n",
    "slope, intercept, r_value, p_value, std_err = stats.linregress(df['unzip'],df['dup_reads'])\n",
    "\n",
    "\n",
    "# use line_kws to set line label for legend\n",
    "fig = sns.lmplot(x=\"unzip\", y=\"dup_reads\", data=df, \n",
    "                 line_kws={'label':\"y={0:.1f}x{1:.1f}, \\n R={2:.3f}, \\n p={3}\".format(slope,intercept,r_value,p_value)})\n",
    "\n",
    "# plot legend to add the annotation\n",
    "fig.ax.legend()\n",
    "\n",
    "format_label_string_with_exponent(fig.ax, axis='both')"
   ]
  },
  {
   "cell_type": "code",
   "execution_count": 50,
   "metadata": {},
   "outputs": [
    {
     "data": {
      "text/plain": [
       "4.4341220012280825e-57"
      ]
     },
     "execution_count": 50,
     "metadata": {},
     "output_type": "execute_result"
    }
   ],
   "source": []
  }
 ],
 "metadata": {
  "kernelspec": {
   "display_name": "Python 3",
   "language": "python",
   "name": "python3"
  },
  "language_info": {
   "codemirror_mode": {
    "name": "ipython",
    "version": 3
   },
   "file_extension": ".py",
   "mimetype": "text/x-python",
   "name": "python",
   "nbconvert_exporter": "python",
   "pygments_lexer": "ipython3",
   "version": "3.7.5"
  }
 },
 "nbformat": 4,
 "nbformat_minor": 2
}
